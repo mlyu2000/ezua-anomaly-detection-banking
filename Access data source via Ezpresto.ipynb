{
 "cells": [
  {
   "cell_type": "code",
   "execution_count": null,
   "id": "b03ebb71-4575-480b-b487-0db0f774db57",
   "metadata": {},
   "outputs": [],
   "source": [
    "from sqlalchemy import create_engine\n",
    "from sqlalchemy import text\n",
    "from sqlalchemy import event"
   ]
  },
  {
   "cell_type": "code",
   "execution_count": null,
   "id": "ac0aa7bf-8d97-4591-b9d5-9ade920af742",
   "metadata": {},
   "outputs": [],
   "source": [
    "%update_token"
   ]
  },
  {
   "cell_type": "code",
   "execution_count": null,
   "id": "3cbd539b-8193-4f80-8cf9-050feddc8f04",
   "metadata": {},
   "outputs": [],
   "source": [
    "auth_token=os.environ[\"AUTH_TOKEN\"]\n",
    "session = requests.Session()\n",
    "session.headers[\"Authorization\"] = \"Bearer \" + f\"{auth_token}\"\n",
    " \n",
    "engine = create_engine(\n",
    "        \"presto://ezpresto-sts-mst-0.ezpresto-svc-hdl.ezpresto.svc.cluster.local:8081\",\n",
    "        connect_args={\"protocol\": \"https\",\"requests_kwargs\": {\"verify\": False}, \"requests_session\": session},\n",
    "    )"
   ]
  },
  {
   "cell_type": "code",
   "execution_count": null,
   "id": "2a13fc3b-a0b6-4f93-ad05-a3390e6216cc",
   "metadata": {},
   "outputs": [],
   "source": [
    "QUERY = \"SELECT * FROM mysql.tpch_partitioned_orc_2.nation\""
   ]
  },
  {
   "cell_type": "code",
   "execution_count": null,
   "id": "e69a080b-679e-4a9e-bb9f-1f7fbc34acd7",
   "metadata": {},
   "outputs": [],
   "source": [
    "with engine.connect() as connection:\n",
    "    with connection.begin():\n",
    "        # run statements in a \"begin once\" block\n",
    "        result = connection.execute(text(QUERY))\n",
    "        for row in result:\n",
    "            print(row)\n",
    "        # connection.execute(text(\"CREATE TABLE some_table (x int, y int)\"))\n",
    "        # connection.execute(\n",
    "        #     text(\"INSERT INTO some_table (x, y) VALUES (:x, :y)\"),\n",
    "        #     [{\"x\": 1, \"y\": 1}, {\"x\": 2, \"y\": 4}],\n",
    "        # )\n",
    "        # connection.commit()"
   ]
  }
 ],
 "metadata": {
  "kernelspec": {
   "display_name": "Python 3 (ipykernel)",
   "language": "python",
   "name": "python3"
  },
  "language_info": {
   "codemirror_mode": {
    "name": "ipython",
    "version": 3
   },
   "file_extension": ".py",
   "mimetype": "text/x-python",
   "name": "python",
   "nbconvert_exporter": "python",
   "pygments_lexer": "ipython3",
   "version": "3.11.6"
  }
 },
 "nbformat": 4,
 "nbformat_minor": 5
}
